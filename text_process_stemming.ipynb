{
 "cells": [
  {
   "cell_type": "code",
   "execution_count": 4,
   "metadata": {},
   "outputs": [
    {
     "name": "stdout",
     "output_type": "stream",
     "text": [
      "cooking -> cook\n",
      "cookery -> cookeri\n",
      "cook -> cook\n",
      "cooks -> cook\n",
      "eating -> eat\n",
      "eats -> eat\n",
      "eaten -> eaten\n",
      "writes -> write\n",
      "writing -> write\n",
      "written -> written\n",
      "programmer -> programm\n",
      "programming -> program\n",
      "programmed -> program\n"
     ]
    }
   ],
   "source": [
    "## Porter Stemmer\n",
    "from nltk.stem import PorterStemmer\n",
    "words = ['cooking', 'cookery', 'cook', 'cooks', 'eating', 'eats', 'eaten', 'writes', 'writing', 'written', 'programmer', 'programming', 'programmed']\n",
    "stemmer = PorterStemmer()\n",
    "for word in words:\n",
    "    print(word + ' -> ' + stemmer.stem(word))"
   ]
  },
  {
   "cell_type": "code",
   "execution_count": 9,
   "metadata": {},
   "outputs": [
    {
     "name": "stdout",
     "output_type": "stream",
     "text": [
      "cooking -> cook\n",
      "cookery -> cook\n",
      "cook -> cook\n",
      "cooks -> cook\n",
      "eating -> eat\n",
      "eats -> eat\n",
      "eaten -> eaten\n",
      "writes -> write\n",
      "writing -> writ\n",
      "written -> written\n",
      "programmer -> programmer\n",
      "programming -> programm\n",
      "programmed -> programm\n"
     ]
    }
   ],
   "source": [
    "## Regexp Stemmer\n",
    "from nltk.stem import RegexpStemmer\n",
    "stemmer = RegexpStemmer('ing$|s$|ed$|ery$|able$', min=4)\n",
    "for word in words:\n",
    "    print(word + ' -> ' + stemmer.stem(word))"
   ]
  },
  {
   "cell_type": "code",
   "execution_count": 14,
   "metadata": {},
   "outputs": [
    {
     "name": "stdout",
     "output_type": "stream",
     "text": [
      "cooking -> cook\n",
      "cookery -> cookeri\n",
      "cook -> cook\n",
      "cooks -> cook\n",
      "eating -> eat\n",
      "eats -> eat\n",
      "eaten -> eaten\n",
      "writes -> write\n",
      "writing -> write\n",
      "written -> written\n",
      "programmer -> programm\n",
      "programming -> program\n",
      "programmed -> program\n"
     ]
    },
    {
     "data": {
      "text/plain": [
       "'goe'"
      ]
     },
     "execution_count": 14,
     "metadata": {},
     "output_type": "execute_result"
    }
   ],
   "source": [
    "## Snowball Stemmer\n",
    "from nltk.stem import SnowballStemmer\n",
    "stemmer = SnowballStemmer('english')\n",
    "for word in words:\n",
    "    print(word + ' -> ' + stemmer.stem(word)) \n",
    "stemmer.stem('goes')"
   ]
  },
  {
   "cell_type": "code",
   "execution_count": 15,
   "metadata": {},
   "outputs": [
    {
     "name": "stdout",
     "output_type": "stream",
     "text": [
      "cooking -> cook\n",
      "cookery -> cookery\n",
      "cook -> cook\n",
      "cooks -> cook\n",
      "eating -> eat\n",
      "eats -> eat\n",
      "eaten -> eat\n",
      "writes -> writ\n",
      "writing -> writ\n",
      "written -> writ\n",
      "programmer -> program\n",
      "programming -> program\n",
      "programmed -> program\n"
     ]
    },
    {
     "data": {
      "text/plain": [
       "'goe'"
      ]
     },
     "execution_count": 15,
     "metadata": {},
     "output_type": "execute_result"
    }
   ],
   "source": [
    "## lancaster Stemmer\n",
    "from nltk.stem import LancasterStemmer\n",
    "stemmer = LancasterStemmer()\n",
    "for word in words:\n",
    "    print(word + ' -> ' + stemmer.stem(word))\n",
    "\n",
    "stemmer.stem('goes')"
   ]
  },
  {
   "cell_type": "code",
   "execution_count": null,
   "metadata": {},
   "outputs": [],
   "source": []
  }
 ],
 "metadata": {
  "kernelspec": {
   "display_name": "Python 3",
   "language": "python",
   "name": "python3"
  },
  "language_info": {
   "codemirror_mode": {
    "name": "ipython",
    "version": 3
   },
   "file_extension": ".py",
   "mimetype": "text/x-python",
   "name": "python",
   "nbconvert_exporter": "python",
   "pygments_lexer": "ipython3",
   "version": "3.13.2"
  }
 },
 "nbformat": 4,
 "nbformat_minor": 2
}
