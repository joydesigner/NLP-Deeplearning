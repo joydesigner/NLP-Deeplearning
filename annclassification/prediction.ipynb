{
 "cells": [
  {
   "cell_type": "code",
   "execution_count": 2,
   "metadata": {},
   "outputs": [],
   "source": [
    "import tensorflow as tf\n",
    "from tensorflow.keras.models import load_model\n",
    "import pickle\n",
    "import pandas as pd\n",
    "import numpy as np\n",
    "\n"
   ]
  },
  {
   "cell_type": "code",
   "execution_count": 25,
   "metadata": {},
   "outputs": [
    {
     "name": "stdout",
     "output_type": "stream",
     "text": [
      "WARNING:tensorflow:5 out of the last 5 calls to <function Model.make_predict_function.<locals>.predict_function at 0x35401f920> triggered tf.function retracing. Tracing is expensive and the excessive number of tracings could be due to (1) creating @tf.function repeatedly in a loop, (2) passing tensors with different shapes, (3) passing Python objects instead of tensors. For (1), please define your @tf.function outside of the loop. For (2), @tf.function has reduce_retracing=True option that can avoid unnecessary retracing. For (3), please refer to https://www.tensorflow.org/guide/function#controlling_retracing and https://www.tensorflow.org/api_docs/python/tf/function for  more details.\n",
      "1/1 [==============================] - 0s 23ms/step\n"
     ]
    },
    {
     "data": {
      "text/plain": [
       "'No Churn'"
      ]
     },
     "execution_count": 25,
     "metadata": {},
     "output_type": "execute_result"
    }
   ],
   "source": [
    "### Load the trained model, scaler and encoder\n",
    "model = load_model('churn_model.h5')\n",
    "\n",
    "## load the scaler\n",
    "with open('scaler.pkl', 'rb') as f:\n",
    "    scaler = pickle.load(f)\n",
    "\n",
    "## load the encoder\n",
    "with open('onehot_encoder.pkl', 'rb') as f:\n",
    "    onehot_encoder = pickle.load(f)\n",
    "    \n",
    "## load the label encoder\n",
    "with open('label_encoder_gender.pkl', 'rb') as f:\n",
    "    label_encoder_gender = pickle.load(f)\n",
    "\n",
    "## Example input data\n",
    "input_data = {\n",
    "    'CreditScore': 600,\n",
    "    'Geography': 'France',\n",
    "    'Gender': 'Female',\n",
    "    'Age': 40,\n",
    "    'Tenure': 3,\n",
    "    'Balance': 60000,\n",
    "    'NumOfProducts': 2,\n",
    "    'HasCrCard': 1,\n",
    "    'IsActiveMember': 1,\n",
    "    'EstimatedSalary': 50000\n",
    "}\n",
    "\n",
    "## One hot encode the categorical variables\n",
    "geo_df = pd.DataFrame({'Geography': [input_data['Geography']]})\n",
    "geo_encoded = onehot_encoder.transform(geo_df).toarray()\n",
    "geo_encoded_df = pd.DataFrame(geo_encoded, columns=onehot_encoder.get_feature_names_out(['Geography']))\n",
    "## combine the encoded data with the input data\n",
    "input_data = pd.concat([pd.DataFrame(input_data, index=[0]), geo_encoded_df], axis=1)\n",
    "\n",
    "## encode the gender\n",
    "input_data['Gender'] = label_encoder_gender.transform(input_data['Gender'])\n",
    "\n",
    "## concatenate the encoded data with the input data\n",
    "input_data = input_data.drop(columns=['Geography'])\n",
    "\n",
    "## scale the data\n",
    "input_data_scaled = scaler.transform(input_data)\n",
    "input_data_scaled\n",
    "\n",
    "## Predict the churn\n",
    "prediction = model.predict(input_data_scaled)\n",
    "if prediction > 0.5:\n",
    "    prediction = 'Churn'\n",
    "else:\n",
    "    prediction = 'No Churn'\n",
    "prediction\n",
    "\n",
    "\n",
    "\n"
   ]
  },
  {
   "cell_type": "code",
   "execution_count": null,
   "metadata": {},
   "outputs": [],
   "source": []
  }
 ],
 "metadata": {
  "kernelspec": {
   "display_name": "Python 3",
   "language": "python",
   "name": "python3"
  },
  "language_info": {
   "codemirror_mode": {
    "name": "ipython",
    "version": 3
   },
   "file_extension": ".py",
   "mimetype": "text/x-python",
   "name": "python",
   "nbconvert_exporter": "python",
   "pygments_lexer": "ipython3",
   "version": "3.11.0"
  }
 },
 "nbformat": 4,
 "nbformat_minor": 2
}
