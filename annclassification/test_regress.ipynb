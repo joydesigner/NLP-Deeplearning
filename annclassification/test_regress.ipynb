{
 "cells": [
  {
   "cell_type": "code",
   "execution_count": 2,
   "metadata": {},
   "outputs": [
    {
     "name": "stderr",
     "output_type": "stream",
     "text": [
      "/Users/xinzheng/Documents/AI/gai-learning/Longchain/NLP/annclassification/venv/lib/python3.11/site-packages/keras/src/layers/core/dense.py:87: UserWarning: Do not pass an `input_shape`/`input_dim` argument to a layer. When using Sequential models, prefer using an `Input(shape)` object as the first layer in the model instead.\n",
      "  super().__init__(activity_regularizer=activity_regularizer, **kwargs)\n",
      "/Users/xinzheng/Documents/AI/gai-learning/Longchain/NLP/annclassification/venv/lib/python3.11/site-packages/keras/src/optimizers/base_optimizer.py:86: UserWarning: Argument `decay` is no longer supported and will be ignored.\n",
      "  warnings.warn(\n",
      "WARNING:absl:Compiled the loaded model, but the compiled metrics have yet to be built. `model.compile_metrics` will be empty until you train or evaluate the model.\n",
      "WARNING:absl:Error in loading the saved optimizer state. As a result, your model is starting with a freshly initialized optimizer.\n"
     ]
    },
    {
     "name": "stdout",
     "output_type": "stream",
     "text": [
      "\u001b[1m1/1\u001b[0m \u001b[32m━━━━━━━━━━━━━━━━━━━━\u001b[0m\u001b[37m\u001b[0m \u001b[1m0s\u001b[0m 29ms/step\n",
      "Predicted Salary: 10881.2119140625\n"
     ]
    }
   ],
   "source": [
    "import pickle\n",
    "import tensorflow as tf\n",
    "import pandas as pd\n",
    "from sklearn.preprocessing import OneHotEncoder, LabelEncoder, StandardScaler\n",
    "\n",
    "# Load the saved artifacts\n",
    "with open('label_encoder_gender.pkl', 'rb') as f:\n",
    "    label_encoder_gender = pickle.load(f)\n",
    "\n",
    "with open('onehot_encoder_geo.pkl', 'rb') as f:\n",
    "    onehot_encoder_geo = pickle.load(f)\n",
    "\n",
    "with open('scaler.pkl', 'rb') as f:\n",
    "    scaler = pickle.load(f)\n",
    "\n",
    "model = tf.keras.models.load_model('regression_model.h5')\n",
    "\n",
    "# Test data\n",
    "test_data = pd.DataFrame({\n",
    "    'Geography': ['France'],\n",
    "    'Gender': ['Female'],\n",
    "    'Age': [25],\n",
    "    'Balance': [1000],\n",
    "    'CreditScore': [600],\n",
    "    'Exited': [0],\n",
    "    'Tenure': [2],\n",
    "    'NumOfProducts': [1],\n",
    "    'HasCrCard': [1],\n",
    "    'IsActiveMember': [1]\n",
    "})\n",
    "\n",
    "# Preprocess the test data\n",
    "test_data['Gender'] = label_encoder_gender.transform(test_data['Gender'])\n",
    "geo_encoded = onehot_encoder_geo.transform(pd.DataFrame({'Geography': [test_data['Geography'][0]]})).toarray()\n",
    "geo_encoded_df = pd.DataFrame(geo_encoded, columns=onehot_encoder_geo.get_feature_names_out(['Geography']))\n",
    "test_data = pd.concat([test_data.drop('Geography', axis=1), geo_encoded_df], axis=1)\n",
    "\n",
    "# Align columns with scaler's feature names\n",
    "test_data = test_data[scaler.feature_names_in_]\n",
    "\n",
    "# Scale the test data\n",
    "test_data_scaled = scaler.transform(test_data)\n",
    "\n",
    "# Predict\n",
    "prediction = model.predict(test_data_scaled)\n",
    "print(f'Predicted Salary: {prediction[0][0]}')"
   ]
  },
  {
   "cell_type": "code",
   "execution_count": null,
   "metadata": {},
   "outputs": [],
   "source": []
  }
 ],
 "metadata": {
  "kernelspec": {
   "display_name": "Python 3",
   "language": "python",
   "name": "python3"
  },
  "language_info": {
   "codemirror_mode": {
    "name": "ipython",
    "version": 3
   },
   "file_extension": ".py",
   "mimetype": "text/x-python",
   "name": "python",
   "nbconvert_exporter": "python",
   "pygments_lexer": "ipython3",
   "version": "3.11.0"
  }
 },
 "nbformat": 4,
 "nbformat_minor": 2
}
