{
 "cells": [
  {
   "cell_type": "code",
   "execution_count": 18,
   "metadata": {},
   "outputs": [
    {
     "name": "stdout",
     "output_type": "stream",
     "text": [
      "cooking->cook\n",
      "cookery->cookery\n",
      "cook->cook\n",
      "cooks->cook\n",
      "eating->eat\n",
      "eats->eat\n",
      "eaten->eat\n",
      "writes->write\n",
      "writing->write\n",
      "written->write\n",
      "programmer->programmer\n",
      "programming->program\n",
      "programmed->program\n"
     ]
    },
    {
     "name": "stderr",
     "output_type": "stream",
     "text": [
      "[nltk_data] Downloading package wordnet to\n",
      "[nltk_data]     /Users/xinzheng/nltk_data...\n",
      "[nltk_data]   Package wordnet is already up-to-date!\n"
     ]
    },
    {
     "data": {
      "text/plain": [
       "'fairly'"
      ]
     },
     "execution_count": 18,
     "metadata": {},
     "output_type": "execute_result"
    }
   ],
   "source": [
    "## text processing - WordNetLemmatizer\n",
    "import nltk \n",
    "from nltk.stem import WordNetLemmatizer\n",
    "\n",
    "words = ['cooking', 'cookery', 'cook', 'cooks', 'eating', 'eats', 'eaten', 'writes', 'writing', 'written', 'programmer', 'programming', 'programmed']\n",
    "nltk.download('wordnet')\n",
    "lemmatizer = WordNetLemmatizer()\n",
    "for word in words:\n",
    "    print(word +'->'+ lemmatizer.lemmatize(word, 'v'))\n",
    "    \n",
    "lemmatizer.lemmatize('fairly', 'r')\n"
   ]
  },
  {
   "cell_type": "code",
   "execution_count": null,
   "metadata": {},
   "outputs": [],
   "source": []
  }
 ],
 "metadata": {
  "kernelspec": {
   "display_name": "Python 3",
   "language": "python",
   "name": "python3"
  },
  "language_info": {
   "codemirror_mode": {
    "name": "ipython",
    "version": 3
   },
   "file_extension": ".py",
   "mimetype": "text/x-python",
   "name": "python",
   "nbconvert_exporter": "python",
   "pygments_lexer": "ipython3",
   "version": "3.13.2"
  }
 },
 "nbformat": 4,
 "nbformat_minor": 2
}
