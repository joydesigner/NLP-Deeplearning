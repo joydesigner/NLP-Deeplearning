{
 "cells": [
  {
   "cell_type": "code",
   "execution_count": 2,
   "metadata": {},
   "outputs": [
    {
     "name": "stdout",
     "output_type": "stream",
     "text": [
      "Bigrams:  [('I', 'need'), ('need', 'to'), ('to', 'write'), ('write', 'a'), ('a', 'program'), ('program', 'in'), ('in', 'NLTK'), ('NLTK', 'that'), ('that', 'breaks'), ('breaks', 'a'), ('a', 'corpus'), ('corpus', '('), ('(', 'a'), ('a', 'large'), ('large', 'collection'), ('collection', 'of'), ('of', 'txt'), ('txt', 'files'), ('files', ')'), (')', 'into'), ('into', 'unigrams'), ('unigrams', ','), (',', 'bigrams'), ('bigrams', ','), (',', 'trigrams'), ('trigrams', ','), (',', 'fourgrams'), ('fourgrams', 'and'), ('and', 'fivegrams'), ('fivegrams', '.'), ('.', 'I'), ('I', 'need'), ('need', 'to'), ('to', 'write'), ('write', 'a'), ('a', 'program'), ('program', 'in'), ('in', 'NLTK'), ('NLTK', 'that'), ('that', 'breaks'), ('breaks', 'a'), ('a', 'corpus')]\n",
      "Trigrams:  [('I', 'need', 'to'), ('need', 'to', 'write'), ('to', 'write', 'a'), ('write', 'a', 'program'), ('a', 'program', 'in'), ('program', 'in', 'NLTK'), ('in', 'NLTK', 'that'), ('NLTK', 'that', 'breaks'), ('that', 'breaks', 'a'), ('breaks', 'a', 'corpus'), ('a', 'corpus', '('), ('corpus', '(', 'a'), ('(', 'a', 'large'), ('a', 'large', 'collection'), ('large', 'collection', 'of'), ('collection', 'of', 'txt'), ('of', 'txt', 'files'), ('txt', 'files', ')'), ('files', ')', 'into'), (')', 'into', 'unigrams'), ('into', 'unigrams', ','), ('unigrams', ',', 'bigrams'), (',', 'bigrams', ','), ('bigrams', ',', 'trigrams'), (',', 'trigrams', ','), ('trigrams', ',', 'fourgrams'), (',', 'fourgrams', 'and'), ('fourgrams', 'and', 'fivegrams'), ('and', 'fivegrams', '.'), ('fivegrams', '.', 'I'), ('.', 'I', 'need'), ('I', 'need', 'to'), ('need', 'to', 'write'), ('to', 'write', 'a'), ('write', 'a', 'program'), ('a', 'program', 'in'), ('program', 'in', 'NLTK'), ('in', 'NLTK', 'that'), ('NLTK', 'that', 'breaks'), ('that', 'breaks', 'a'), ('breaks', 'a', 'corpus')]\n"
     ]
    },
    {
     "name": "stderr",
     "output_type": "stream",
     "text": [
      "[nltk_data] Downloading package punkt to /Users/xinzheng/nltk_data...\n",
      "[nltk_data]   Package punkt is already up-to-date!\n"
     ]
    }
   ],
   "source": [
    "## example of ngram model\n",
    "from nltk import ngrams\n",
    "import nltk\n",
    "nltk.download('punkt')\n",
    "from nltk.tokenize import word_tokenize\n",
    "\n",
    "text = \"I need to write a program in NLTK that breaks a corpus (a large collection of \\\n",
    "txt files) into unigrams, bigrams, trigrams, fourgrams and fivegrams. I need to write a program in NLTK that breaks a corpus\"\n",
    "token = nltk.word_tokenize(text)\n",
    "\n",
    "# generate bigrams\n",
    "bigrams = list(ngrams(token, 2))\n",
    "print(\"Bigrams: \",bigrams)\n",
    "\n",
    "# generate trigrams\n",
    "trigrams = list(ngrams(token, 3))\n",
    "print(\"Trigrams: \",trigrams)\n"
   ]
  },
  {
   "cell_type": "code",
   "execution_count": null,
   "metadata": {},
   "outputs": [],
   "source": []
  }
 ],
 "metadata": {
  "kernelspec": {
   "display_name": "Python 3",
   "language": "python",
   "name": "python3"
  },
  "language_info": {
   "codemirror_mode": {
    "name": "ipython",
    "version": 3
   },
   "file_extension": ".py",
   "mimetype": "text/x-python",
   "name": "python",
   "nbconvert_exporter": "python",
   "pygments_lexer": "ipython3",
   "version": "3.13.2"
  }
 },
 "nbformat": 4,
 "nbformat_minor": 2
}
