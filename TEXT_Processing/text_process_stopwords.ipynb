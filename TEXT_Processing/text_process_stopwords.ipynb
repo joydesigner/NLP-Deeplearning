{
 "cells": [
  {
   "cell_type": "code",
   "execution_count": 16,
   "metadata": {},
   "outputs": [
    {
     "name": "stdout",
     "output_type": "stream",
     "text": [
      "['i three visions india .', 'in 3000 years history , people world come invade us , capture land , conquer mind .', 'from alexander onwards , greeks , turks , moguls , portuguese , british , french , dutch , come loot us , take .', 'yet do nation .', 'we conquer anyone .', 'we grab land , culture , history try enforce way life .', 'why ?', 'because respect freedom others.that first vision freedom .', 'i believe india get first vision 1857 , start war independence .', 'it freedom must protect nurture build .', 'if free , one respect us .', 'my second vision india ’ development .', 'for fifty years develop nation .', 'it time see develop nation .', 'we among top 5 nations world term gdp .', 'we 10 percent growth rate areas .', 'our poverty level fall .', 'our achievements globally recognise today .', 'yet lack self-confidence see develop nation , self-reliant self-assured .', 'isn ’ incorrect ?', 'i third vision .', 'india must stand world .', 'because i believe unless india stand world , one respect us .', 'only strength respect strength .', 'we must strong military power also economic power .', 'both must go hand-in-hand .', 'my good fortune work three great mind .', 'dr. vikram sarabhai dept .', 'space , professor satish dhawan , succeed dr. brahm prakash , father nuclear material .', 'i lucky work three closely consider great opportunity life .', 'i see four milestones career']\n"
     ]
    },
    {
     "name": "stderr",
     "output_type": "stream",
     "text": [
      "[nltk_data] Downloading package stopwords to\n",
      "[nltk_data]     /Users/xinzheng/nltk_data...\n",
      "[nltk_data]   Package stopwords is already up-to-date!\n"
     ]
    }
   ],
   "source": [
    "## text processing - stop words\n",
    "import nltk\n",
    "from nltk.stem import WordNetLemmatizer\n",
    "from nltk.corpus import stopwords\n",
    "from nltk.tokenize import sent_tokenize\n",
    "\n",
    "paragraph = (\n",
    "    \"I have three visions for India. In 3000 years of our history, people from all over \\n\"\n",
    "    \"the world have come and invaded us, captured our lands, conquered our minds. \\n\"\n",
    "    \"From Alexander onwards, the Greeks, the Turks, the Moguls, the Portuguese, the British,\\n\"\n",
    "    \"the French, the Dutch, all of them came and looted us, took over what was ours. \\n\"\n",
    "    \"Yet we have not done this to any other nation. We have not conquered anyone. \\n\"\n",
    "    \"We have not grabbed their land, their culture, \\n\"\n",
    "    \"their history and tried to enforce our way of life on them. \\n\"\n",
    "    \"Why? Because we respect the freedom of others.That is why my \\n\"\n",
    "    \"first vision is that of freedom. I believe that India got its first vision of \\n\"\n",
    "    \"this in 1857, when we started the War of Independence. It is this freedom that\\n\"\n",
    "    \"we must protect and nurture and build on. If we are not free, no one will respect us.\\n\"\n",
    "    \"My second vision for India’s development. For fifty years we have been a developing nation.\\n\"\n",
    "    \"It is time we see ourselves as a developed nation. We are among the top 5 nations of the world\\n\"\n",
    "    \"in terms of GDP. We have a 10 percent growth rate in most areas. Our poverty levels are falling.\\n\"\n",
    "    \"Our achievements are being globally recognised today. Yet we lack the self-confidence to\\n\"\n",
    "    \"see ourselves as a developed nation, self-reliant and self-assured. Isn’t this incorrect?\\n\"\n",
    "    \"I have a third vision. India must stand up to the world. Because I believe that unless India \\n\"\n",
    "    \"stands up to the world, no one will respect us. Only strength respects strength. We must be \\n\"\n",
    "    \"strong not only as a military power but also as an economic power. Both must go hand-in-hand. \\n\"\n",
    "    \"My good fortune was to have worked with three great minds. Dr. Vikram Sarabhai of the Dept. of \\n\"\n",
    "    \"space, Professor Satish Dhawan, who succeeded him and Dr. Brahm Prakash, father of nuclear material.\\n\"\n",
    "    \"I was lucky to have worked with all three of them closely and consider this the great opportunity of my life. \\n\"\n",
    "    \"I see four milestones in my career\"\n",
    ")\n",
    "nltk.download('stopwords')\n",
    "lemmatizer = WordNetLemmatizer()\n",
    "\n",
    "## tokenizing sentences\n",
    "sentences = nltk.sent_tokenize(paragraph)\n",
    "\n",
    "## apply stop words\n",
    "for i in range(len(sentences)):\n",
    "    words = nltk.word_tokenize(sentences[i])\n",
    "    ## remove stop words\n",
    "    ## apply stemming\n",
    "    words = [lemmatizer.lemmatize(word, 'v') for word in words if word not in set(stopwords.words('english'))] ## remove stop words\n",
    "    ## join words into sentences\n",
    "    sentences[i] = ' '.join(words)\n",
    "    ## lower case\n",
    "    sentences[i] = sentences[i].lower()\n",
    "\n",
    "print(sentences)\n",
    "\n",
    "\n",
    "\n",
    "\n",
    "\n"
   ]
  },
  {
   "cell_type": "code",
   "execution_count": null,
   "metadata": {},
   "outputs": [],
   "source": []
  }
 ],
 "metadata": {
  "kernelspec": {
   "display_name": "Python 3",
   "language": "python",
   "name": "python3"
  },
  "language_info": {
   "codemirror_mode": {
    "name": "ipython",
    "version": 3
   },
   "file_extension": ".py",
   "mimetype": "text/x-python",
   "name": "python",
   "nbconvert_exporter": "python",
   "pygments_lexer": "ipython3",
   "version": "3.13.2"
  }
 },
 "nbformat": 4,
 "nbformat_minor": 2
}
