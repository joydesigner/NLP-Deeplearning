{
 "cells": [
  {
   "cell_type": "code",
   "execution_count": 15,
   "metadata": {},
   "outputs": [
    {
     "name": "stdout",
     "output_type": "stream",
     "text": [
      "[\"Hello Welcome, to Jason's NLP Tutorials.\", 'Please do watch the videos and subscribe to the channel!', 'And become an expert in NLP.']\n",
      "Hello Welcome, to Jason's NLP Tutorials.\n",
      "Please do watch the videos and subscribe to the channel!\n",
      "And become an expert in NLP.\n"
     ]
    },
    {
     "name": "stderr",
     "output_type": "stream",
     "text": [
      "[nltk_data] Downloading package punkt to /Users/xinzheng/nltk_data...\n",
      "[nltk_data]   Package punkt is already up-to-date!\n"
     ]
    }
   ],
   "source": [
    "corpus=\"\"\"Hello Welcome, to Jason's NLP Tutorials.\n",
    "Please do watch the videos and subscribe to the channel! And become an expert in NLP.\n",
    "\"\"\"\n",
    "\n",
    "# print(corpus)\n",
    "\n",
    "## Tokenization\n",
    "## Paragraph to Sentences\n",
    "import nltk\n",
    "from nltk.tokenize import sent_tokenize\n",
    "nltk.download('punkt')\n",
    "documents = sent_tokenize(corpus)\n",
    "print(documents)\n",
    "\n",
    "for sentence in documents:\n",
    "    print(sentence)\n"
   ]
  },
  {
   "cell_type": "code",
   "execution_count": 16,
   "metadata": {},
   "outputs": [
    {
     "name": "stdout",
     "output_type": "stream",
     "text": [
      "['Hello', 'Welcome', ',', 'to', 'Jason', \"'s\", 'NLP', 'Tutorials', '.', 'Please', 'do', 'watch', 'the', 'videos', 'and', 'subscribe', 'to', 'the', 'channel', '!', 'And', 'become', 'an', 'expert', 'in', 'NLP', '.']\n",
      "Hello\n",
      "Welcome\n",
      ",\n",
      "to\n",
      "Jason\n",
      "'s\n",
      "NLP\n",
      "Tutorials\n",
      ".\n",
      "Please\n",
      "do\n",
      "watch\n",
      "the\n",
      "videos\n",
      "and\n",
      "subscribe\n",
      "to\n",
      "the\n",
      "channel\n",
      "!\n",
      "And\n",
      "become\n",
      "an\n",
      "expert\n",
      "in\n",
      "NLP\n",
      ".\n"
     ]
    },
    {
     "name": "stderr",
     "output_type": "stream",
     "text": [
      "[nltk_data] Downloading package punkt to /Users/xinzheng/nltk_data...\n",
      "[nltk_data]   Package punkt is already up-to-date!\n"
     ]
    }
   ],
   "source": [
    "## Sentence to Words\n",
    "from nltk.tokenize import word_tokenize\n",
    "nltk.download('punkt')\n",
    "words = word_tokenize(corpus)\n",
    "print(words)\n",
    "\n",
    "for word in words:\n",
    "    print(word)"
   ]
  },
  {
   "cell_type": "code",
   "execution_count": null,
   "metadata": {},
   "outputs": [
    {
     "name": "stdout",
     "output_type": "stream",
     "text": [
      "['Hello', 'Welcome', ',', 'to', 'Jason', \"'\", 's', 'NLP', 'Tutorials', '.', 'Please', 'do', 'watch', 'the', 'videos', 'and', 'subscribe', 'to', 'the', 'channel', '!', 'And', 'become', 'an', 'expert', 'in', 'NLP', '.']\n"
     ]
    }
   ],
   "source": [
    "## tokenize using wordpunct_tokenize\n",
    "## This will tokenize the words and punctuations\n",
    "from nltk.tokenize import wordpunct_tokenize\n",
    "words = wordpunct_tokenize(corpus)\n",
    "print(words)\n"
   ]
  },
  {
   "cell_type": "code",
   "execution_count": null,
   "metadata": {},
   "outputs": [
    {
     "name": "stdout",
     "output_type": "stream",
     "text": [
      "['Hello', 'Welcome', ',', 'to', 'Jason', \"'s\", 'NLP', 'Tutorials.', 'Please', 'do', 'watch', 'the', 'videos', 'and', 'subscribe', 'to', 'the', 'channel', '!', 'And', 'become', 'an', 'expert', 'in', 'NLP', '.']\n"
     ]
    }
   ],
   "source": [
    "## tokenize using threebanktokenizer \n",
    "from nltk.tokenize import TreebankWordTokenizer\n",
    "tokenizer = TreebankWordTokenizer()\n",
    "words = tokenizer.tokenize(corpus)\n",
    "print(words)\n"
   ]
  },
  {
   "cell_type": "code",
   "execution_count": null,
   "metadata": {},
   "outputs": [],
   "source": []
  }
 ],
 "metadata": {
  "kernelspec": {
   "display_name": "Python 3",
   "language": "python",
   "name": "python3"
  },
  "language_info": {
   "codemirror_mode": {
    "name": "ipython",
    "version": 3
   },
   "file_extension": ".py",
   "mimetype": "text/x-python",
   "name": "python",
   "nbconvert_exporter": "python",
   "pygments_lexer": "ipython3",
   "version": "3.13.2"
  }
 },
 "nbformat": 4,
 "nbformat_minor": 2
}
